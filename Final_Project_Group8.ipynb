{
 "cells": [
  {
   "cell_type": "markdown",
   "id": "9b725c5f",
   "metadata": {},
   "source": [
    "### DATA UNDERSTANDING"
   ]
  },
  {
   "cell_type": "code",
   "execution_count": 37,
   "id": "23b684fe",
   "metadata": {},
   "outputs": [],
   "source": [
    "import pandas as pd\n",
    "import numpy as np\n",
    "import matplotlib.pyplot as plt\n",
    "%matplotlib inline\n",
    "import seaborn as sns\n",
    "import pylab as pl"
   ]
  },
  {
   "cell_type": "code",
   "execution_count": 38,
   "id": "50c01025",
   "metadata": {},
   "outputs": [
    {
     "data": {
      "text/html": [
       "<div>\n",
       "<style scoped>\n",
       "    .dataframe tbody tr th:only-of-type {\n",
       "        vertical-align: middle;\n",
       "    }\n",
       "\n",
       "    .dataframe tbody tr th {\n",
       "        vertical-align: top;\n",
       "    }\n",
       "\n",
       "    .dataframe thead th {\n",
       "        text-align: right;\n",
       "    }\n",
       "</style>\n",
       "<table border=\"1\" class=\"dataframe\">\n",
       "  <thead>\n",
       "    <tr style=\"text-align: right;\">\n",
       "      <th></th>\n",
       "      <th>Make</th>\n",
       "      <th>Model</th>\n",
       "      <th>Year</th>\n",
       "      <th>Engine Fuel Type</th>\n",
       "      <th>Engine HP</th>\n",
       "      <th>Engine Cylinders</th>\n",
       "      <th>Transmission Type</th>\n",
       "      <th>Driven_Wheels</th>\n",
       "      <th>Number of Doors</th>\n",
       "      <th>Market Category</th>\n",
       "      <th>Vehicle Size</th>\n",
       "      <th>Vehicle Style</th>\n",
       "      <th>highway MPG</th>\n",
       "      <th>city mpg</th>\n",
       "      <th>Popularity</th>\n",
       "      <th>MSRP</th>\n",
       "    </tr>\n",
       "  </thead>\n",
       "  <tbody>\n",
       "    <tr>\n",
       "      <th>0</th>\n",
       "      <td>BMW</td>\n",
       "      <td>1 Series M</td>\n",
       "      <td>2011</td>\n",
       "      <td>premium unleaded (required)</td>\n",
       "      <td>335.0</td>\n",
       "      <td>6.0</td>\n",
       "      <td>MANUAL</td>\n",
       "      <td>rear wheel drive</td>\n",
       "      <td>2.0</td>\n",
       "      <td>Factory Tuner,Luxury,High-Performance</td>\n",
       "      <td>Compact</td>\n",
       "      <td>Coupe</td>\n",
       "      <td>26</td>\n",
       "      <td>19</td>\n",
       "      <td>3916</td>\n",
       "      <td>46135</td>\n",
       "    </tr>\n",
       "    <tr>\n",
       "      <th>1</th>\n",
       "      <td>BMW</td>\n",
       "      <td>1 Series</td>\n",
       "      <td>2011</td>\n",
       "      <td>premium unleaded (required)</td>\n",
       "      <td>300.0</td>\n",
       "      <td>6.0</td>\n",
       "      <td>MANUAL</td>\n",
       "      <td>rear wheel drive</td>\n",
       "      <td>2.0</td>\n",
       "      <td>Luxury,Performance</td>\n",
       "      <td>Compact</td>\n",
       "      <td>Convertible</td>\n",
       "      <td>28</td>\n",
       "      <td>19</td>\n",
       "      <td>3916</td>\n",
       "      <td>40650</td>\n",
       "    </tr>\n",
       "    <tr>\n",
       "      <th>2</th>\n",
       "      <td>BMW</td>\n",
       "      <td>1 Series</td>\n",
       "      <td>2011</td>\n",
       "      <td>premium unleaded (required)</td>\n",
       "      <td>300.0</td>\n",
       "      <td>6.0</td>\n",
       "      <td>MANUAL</td>\n",
       "      <td>rear wheel drive</td>\n",
       "      <td>2.0</td>\n",
       "      <td>Luxury,High-Performance</td>\n",
       "      <td>Compact</td>\n",
       "      <td>Coupe</td>\n",
       "      <td>28</td>\n",
       "      <td>20</td>\n",
       "      <td>3916</td>\n",
       "      <td>36350</td>\n",
       "    </tr>\n",
       "    <tr>\n",
       "      <th>3</th>\n",
       "      <td>BMW</td>\n",
       "      <td>1 Series</td>\n",
       "      <td>2011</td>\n",
       "      <td>premium unleaded (required)</td>\n",
       "      <td>230.0</td>\n",
       "      <td>6.0</td>\n",
       "      <td>MANUAL</td>\n",
       "      <td>rear wheel drive</td>\n",
       "      <td>2.0</td>\n",
       "      <td>Luxury,Performance</td>\n",
       "      <td>Compact</td>\n",
       "      <td>Coupe</td>\n",
       "      <td>28</td>\n",
       "      <td>18</td>\n",
       "      <td>3916</td>\n",
       "      <td>29450</td>\n",
       "    </tr>\n",
       "    <tr>\n",
       "      <th>4</th>\n",
       "      <td>BMW</td>\n",
       "      <td>1 Series</td>\n",
       "      <td>2011</td>\n",
       "      <td>premium unleaded (required)</td>\n",
       "      <td>230.0</td>\n",
       "      <td>6.0</td>\n",
       "      <td>MANUAL</td>\n",
       "      <td>rear wheel drive</td>\n",
       "      <td>2.0</td>\n",
       "      <td>Luxury</td>\n",
       "      <td>Compact</td>\n",
       "      <td>Convertible</td>\n",
       "      <td>28</td>\n",
       "      <td>18</td>\n",
       "      <td>3916</td>\n",
       "      <td>34500</td>\n",
       "    </tr>\n",
       "  </tbody>\n",
       "</table>\n",
       "</div>"
      ],
      "text/plain": [
       "  Make       Model  Year             Engine Fuel Type  Engine HP  \\\n",
       "0  BMW  1 Series M  2011  premium unleaded (required)      335.0   \n",
       "1  BMW    1 Series  2011  premium unleaded (required)      300.0   \n",
       "2  BMW    1 Series  2011  premium unleaded (required)      300.0   \n",
       "3  BMW    1 Series  2011  premium unleaded (required)      230.0   \n",
       "4  BMW    1 Series  2011  premium unleaded (required)      230.0   \n",
       "\n",
       "   Engine Cylinders Transmission Type     Driven_Wheels  Number of Doors  \\\n",
       "0               6.0            MANUAL  rear wheel drive              2.0   \n",
       "1               6.0            MANUAL  rear wheel drive              2.0   \n",
       "2               6.0            MANUAL  rear wheel drive              2.0   \n",
       "3               6.0            MANUAL  rear wheel drive              2.0   \n",
       "4               6.0            MANUAL  rear wheel drive              2.0   \n",
       "\n",
       "                         Market Category Vehicle Size Vehicle Style  \\\n",
       "0  Factory Tuner,Luxury,High-Performance      Compact         Coupe   \n",
       "1                     Luxury,Performance      Compact   Convertible   \n",
       "2                Luxury,High-Performance      Compact         Coupe   \n",
       "3                     Luxury,Performance      Compact         Coupe   \n",
       "4                                 Luxury      Compact   Convertible   \n",
       "\n",
       "   highway MPG  city mpg  Popularity   MSRP  \n",
       "0           26        19        3916  46135  \n",
       "1           28        19        3916  40650  \n",
       "2           28        20        3916  36350  \n",
       "3           28        18        3916  29450  \n",
       "4           28        18        3916  34500  "
      ]
     },
     "execution_count": 38,
     "metadata": {},
     "output_type": "execute_result"
    }
   ],
   "source": [
    "df = pd.read_csv('Car Popularity Predictions.csv')\n",
    "df.head()"
   ]
  },
  {
   "cell_type": "code",
   "execution_count": 39,
   "id": "a0fe236f",
   "metadata": {},
   "outputs": [
    {
     "name": "stdout",
     "output_type": "stream",
     "text": [
      "<class 'pandas.core.frame.DataFrame'>\n",
      "RangeIndex: 11914 entries, 0 to 11913\n",
      "Data columns (total 16 columns):\n",
      " #   Column             Non-Null Count  Dtype  \n",
      "---  ------             --------------  -----  \n",
      " 0   Make               11914 non-null  object \n",
      " 1   Model              11914 non-null  object \n",
      " 2   Year               11914 non-null  int64  \n",
      " 3   Engine Fuel Type   11911 non-null  object \n",
      " 4   Engine HP          11845 non-null  float64\n",
      " 5   Engine Cylinders   11884 non-null  float64\n",
      " 6   Transmission Type  11914 non-null  object \n",
      " 7   Driven_Wheels      11914 non-null  object \n",
      " 8   Number of Doors    11908 non-null  float64\n",
      " 9   Market Category    8172 non-null   object \n",
      " 10  Vehicle Size       11914 non-null  object \n",
      " 11  Vehicle Style      11914 non-null  object \n",
      " 12  highway MPG        11914 non-null  int64  \n",
      " 13  city mpg           11914 non-null  int64  \n",
      " 14  Popularity         11914 non-null  int64  \n",
      " 15  MSRP               11914 non-null  int64  \n",
      "dtypes: float64(3), int64(5), object(8)\n",
      "memory usage: 1.5+ MB\n"
     ]
    }
   ],
   "source": [
    "df.info()"
   ]
  },
  {
   "cell_type": "markdown",
   "id": "3b5ebb3a",
   "metadata": {},
   "source": [
    "Display category and numerical variables"
   ]
  },
  {
   "cell_type": "code",
   "execution_count": 40,
   "id": "034117ce",
   "metadata": {},
   "outputs": [
    {
     "name": "stdout",
     "output_type": "stream",
     "text": [
      "['Make', 'Model', 'Engine Fuel Type', 'Transmission Type', 'Driven_Wheels', 'Market Category', 'Vehicle Size', 'Vehicle Style']\n",
      "['Year', 'Engine HP', 'Engine Cylinders', 'Number of Doors', 'highway MPG', 'city mpg', 'Popularity', 'MSRP']\n"
     ]
    }
   ],
   "source": [
    "cat_col = list(df.dtypes[df.dtypes == 'object'].index)\n",
    "num_col = list(df.dtypes[df.dtypes != 'object'].index)\n",
    "print(cat_col)\n",
    "print(num_col)"
   ]
  },
  {
   "cell_type": "markdown",
   "id": "bba94e0a",
   "metadata": {},
   "source": [
    "### DATA PREPARATION"
   ]
  },
  {
   "cell_type": "markdown",
   "id": "69d98902",
   "metadata": {},
   "source": [
    "### Data Cleaning"
   ]
  },
  {
   "cell_type": "markdown",
   "id": "d8736cbc",
   "metadata": {},
   "source": [
    "#### Handling missing values"
   ]
  },
  {
   "cell_type": "markdown",
   "id": "7ad0c8f0",
   "metadata": {},
   "source": [
    "Check data with missing values"
   ]
  },
  {
   "cell_type": "code",
   "execution_count": 41,
   "id": "59f521a0",
   "metadata": {},
   "outputs": [
    {
     "data": {
      "text/plain": [
       "Make                    0\n",
       "Model                   0\n",
       "Year                    0\n",
       "Engine Fuel Type        3\n",
       "Engine HP              69\n",
       "Engine Cylinders       30\n",
       "Transmission Type       0\n",
       "Driven_Wheels           0\n",
       "Number of Doors         6\n",
       "Market Category      3742\n",
       "Vehicle Size            0\n",
       "Vehicle Style           0\n",
       "highway MPG             0\n",
       "city mpg                0\n",
       "Popularity              0\n",
       "MSRP                    0\n",
       "dtype: int64"
      ]
     },
     "execution_count": 41,
     "metadata": {},
     "output_type": "execute_result"
    }
   ],
   "source": [
    "df.isnull().sum()"
   ]
  },
  {
   "cell_type": "markdown",
   "id": "7159e61a",
   "metadata": {},
   "source": [
    "Drop rows containing missing values"
   ]
  },
  {
   "cell_type": "code",
   "execution_count": 42,
   "id": "d389655e",
   "metadata": {},
   "outputs": [
    {
     "data": {
      "text/plain": [
       "Make                 0\n",
       "Model                0\n",
       "Year                 0\n",
       "Engine Fuel Type     0\n",
       "Engine HP            0\n",
       "Engine Cylinders     0\n",
       "Transmission Type    0\n",
       "Driven_Wheels        0\n",
       "Number of Doors      0\n",
       "Market Category      0\n",
       "Vehicle Size         0\n",
       "Vehicle Style        0\n",
       "highway MPG          0\n",
       "city mpg             0\n",
       "Popularity           0\n",
       "MSRP                 0\n",
       "dtype: int64"
      ]
     },
     "execution_count": 42,
     "metadata": {},
     "output_type": "execute_result"
    }
   ],
   "source": [
    "df = df.dropna()\n",
    "df.isnull().sum()"
   ]
  },
  {
   "cell_type": "markdown",
   "id": "509aa687",
   "metadata": {},
   "source": [
    "#### Handing Outliers"
   ]
  },
  {
   "cell_type": "markdown",
   "id": "6991a6c3",
   "metadata": {},
   "source": [
    "Check variables containing outliers"
   ]
  },
  {
   "cell_type": "code",
   "execution_count": 43,
   "id": "69103bbf",
   "metadata": {
    "scrolled": false
   },
   "outputs": [
    {
     "data": {
      "image/png": "[encoded data removed]",
      "text/plain": [
       "<Figure size 640x480 with 1 Axes>"
      ]
     },
     "metadata": {},
     "output_type": "display_data"
    },
    {
     "name": "stdout",
     "output_type": "stream",
     "text": [
      "\n",
      "\n"
     ]
    },
    {
     "data": {
      "image/png": "[encoded data removed]",
      "text/plain": [
       "<Figure size 640x480 with 1 Axes>"
      ]
     },
     "metadata": {},
     "output_type": "display_data"
    },
    {
     "name": "stdout",
     "output_type": "stream",
     "text": [
      "\n",
      "\n"
     ]
    },
    {
     "data": {
      "image/png": "[encoded data removed]",
      "text/plain": [
       "<Figure size 640x480 with 1 Axes>"
      ]
     },
     "metadata": {},
     "output_type": "display_data"
    },
    {
     "name": "stdout",
     "output_type": "stream",
     "text": [
      "\n",
      "\n"
     ]
    },
    {
     "data": {
      "image/png": "[encoded data removed]",
      "text/plain": [
       "<Figure size 640x480 with 1 Axes>"
      ]
     },
     "metadata": {},
     "output_type": "display_data"
    },
    {
     "name": "stdout",
     "output_type": "stream",
     "text": [
      "\n",
      "\n"
     ]
    },
    {
     "data": {
      "image/png": "[encoded data removed]",
      "text/plain": [
       "<Figure size 640x480 with 1 Axes>"
      ]
     },
     "metadata": {},
     "output_type": "display_data"
    },
    {
     "name": "stdout",
     "output_type": "stream",
     "text": [
      "\n",
      "\n"
     ]
    },
    {
     "data": {
      "image/png": "[encoded data removed]",
      "text/plain": [
       "<Figure size 640x480 with 1 Axes>"
      ]
     },
     "metadata": {},
     "output_type": "display_data"
    },
    {
     "name": "stdout",
     "output_type": "stream",
     "text": [
      "\n",
      "\n"
     ]
    },
    {
     "data": {
      "image/png": "[encoded data removed]",
      "text/plain": [
       "<Figure size 640x480 with 1 Axes>"
      ]
     },
     "metadata": {},
     "output_type": "display_data"
    },
    {
     "name": "stdout",
     "output_type": "stream",
     "text": [
      "\n",
      "\n"
     ]
    },
    {
     "data": {
      "image/png": "[encoded data removed]",
      "text/plain": [
       "<Figure size 640x480 with 1 Axes>"
      ]
     },
     "metadata": {},
     "output_type": "display_data"
    },
    {
     "name": "stdout",
     "output_type": "stream",
     "text": [
      "\n",
      "\n"
     ]
    }
   ],
   "source": [
    "df[num_col] = df[num_col].astype(float)\n",
    "df.dtypes\n",
    "\n",
    "for col in num_col:\n",
    "    sns.boxplot(x=df[col])\n",
    "    plt.title(str.upper(col))\n",
    "    plt.show()\n",
    "    print('\\n')"
   ]
  },
  {
   "cell_type": "markdown",
   "id": "ca738637",
   "metadata": {},
   "source": [
    "Storing variables containing outliers"
   ]
  },
  {
   "cell_type": "code",
   "execution_count": 44,
   "id": "1394570b",
   "metadata": {},
   "outputs": [],
   "source": [
    "outliers = ['Engine HP', 'Engine Cylinders', 'highway MPG', 'city mpg', 'Popularity', 'MSRP']"
   ]
  },
  {
   "cell_type": "markdown",
   "id": "8f27eca8",
   "metadata": {},
   "source": [
    "Function to remove outliers using IQR"
   ]
  },
  {
   "cell_type": "code",
   "execution_count": 45,
   "id": "ed591ed1",
   "metadata": {},
   "outputs": [],
   "source": [
    "def remove_outliers(data, col):\n",
    "    Q1 = np.percentile(data[col], 25)\n",
    "    Q3 = np.percentile(data[col], 75)\n",
    "    IQR = Q3 - Q1\n",
    "    lower_bound = Q1 - (1.5 * IQR)\n",
    "    upper_bound = Q3 + (1.5 * IQR)\n",
    "    data = data[(data[col] >= lower_bound) & (data[col] <= upper_bound)]\n",
    "    return data"
   ]
  },
  {
   "cell_type": "markdown",
   "id": "75a9fbc7",
   "metadata": {},
   "source": [
    "Remove outliers"
   ]
  },
  {
   "cell_type": "code",
   "execution_count": 46,
   "id": "14d82401",
   "metadata": {
    "scrolled": false
   },
   "outputs": [],
   "source": [
    "for col in outliers:\n",
    "    df = remove_outliers(df, col)"
   ]
  },
  {
   "cell_type": "markdown",
   "id": "43d80229",
   "metadata": {},
   "source": [
    "Visualize the result"
   ]
  },
  {
   "cell_type": "code",
   "execution_count": 47,
   "id": "7fdeb1f7",
   "metadata": {
    "scrolled": false
   },
   "outputs": [
    {
     "data": {
      "image/png": "[encoded data removed]",
      "text/plain": [
       "<Figure size 640x480 with 1 Axes>"
      ]
     },
     "metadata": {},
     "output_type": "display_data"
    },
    {
     "data": {
      "image/png": "[encoded data removed]",
      "text/plain": [
       "<Figure size 640x480 with 1 Axes>"
      ]
     },
     "metadata": {},
     "output_type": "display_data"
    },
    {
     "data": {
      "image/png": "[encoded data removed]",
      "text/plain": [
       "<Figure size 640x480 with 1 Axes>"
      ]
     },
     "metadata": {},
     "output_type": "display_data"
    },
    {
     "data": {
      "image/png": "[encoded data removed]",
      "text/plain": [
       "<Figure size 640x480 with 1 Axes>"
      ]
     },
     "metadata": {},
     "output_type": "display_data"
    },
    {
     "data": {
      "image/png": "[encoded data removed]",
      "text/plain": [
       "<Figure size 640x480 with 1 Axes>"
      ]
     },
     "metadata": {},
     "output_type": "display_data"
    },
    {
     "data": {
      "image/png": "[encoded data removed]",
      "text/plain": [
       "<Figure size 640x480 with 1 Axes>"
      ]
     },
     "metadata": {},
     "output_type": "display_data"
    }
   ],
   "source": [
    "for col in outliers:\n",
    "    sns.boxplot(x=df[col])\n",
    "    plt.title(str.upper(col))\n",
    "    plt.show()"
   ]
  },
  {
   "cell_type": "code",
   "execution_count": 48,
   "id": "3afe8faa",
   "metadata": {},
   "outputs": [
    {
     "name": "stdout",
     "output_type": "stream",
     "text": [
      "<class 'pandas.core.frame.DataFrame'>\n",
      "Int64Index: 6152 entries, 17 to 11913\n",
      "Data columns (total 16 columns):\n",
      " #   Column             Non-Null Count  Dtype  \n",
      "---  ------             --------------  -----  \n",
      " 0   Make               6152 non-null   object \n",
      " 1   Model              6152 non-null   object \n",
      " 2   Year               6152 non-null   float64\n",
      " 3   Engine Fuel Type   6152 non-null   object \n",
      " 4   Engine HP          6152 non-null   float64\n",
      " 5   Engine Cylinders   6152 non-null   float64\n",
      " 6   Transmission Type  6152 non-null   object \n",
      " 7   Driven_Wheels      6152 non-null   object \n",
      " 8   Number of Doors    6152 non-null   float64\n",
      " 9   Market Category    6152 non-null   object \n",
      " 10  Vehicle Size       6152 non-null   object \n",
      " 11  Vehicle Style      6152 non-null   object \n",
      " 12  highway MPG        6152 non-null   float64\n",
      " 13  city mpg           6152 non-null   float64\n",
      " 14  Popularity         6152 non-null   float64\n",
      " 15  MSRP               6152 non-null   float64\n",
      "dtypes: float64(8), object(8)\n",
      "memory usage: 817.1+ KB\n"
     ]
    }
   ],
   "source": [
    "df.info()"
   ]
  },
  {
   "cell_type": "markdown",
   "id": "88e2f20b",
   "metadata": {},
   "source": [
    "#### Encoding"
   ]
  },
  {
   "cell_type": "code",
   "execution_count": 49,
   "id": "8033e01b",
   "metadata": {},
   "outputs": [],
   "source": [
    "cat_cols = ['Make', 'Model', 'Engine Fuel Type', 'Transmission Type', 'Driven_Wheels',\n",
    "            'Market Category', 'Vehicle Size', 'Vehicle Style']"
   ]
  },
  {
   "cell_type": "code",
   "execution_count": 50,
   "id": "116fd83c",
   "metadata": {},
   "outputs": [],
   "source": [
    "label_encoders = {}"
   ]
  },
  {
   "cell_type": "code",
   "execution_count": 52,
   "id": "3380c269",
   "metadata": {},
   "outputs": [],
   "source": [
    "for col in cat_cols:\n",
    "    le = LabelEncoder()\n",
    "    df[col] = le.fit_transform(df[col])\n",
    "    label_encoders[col] = le"
   ]
  },
  {
   "cell_type": "code",
   "execution_count": 53,
   "id": "1b89a5af",
   "metadata": {},
   "outputs": [
    {
     "data": {
      "text/plain": [
       "['label_encoders.pkl']"
      ]
     },
     "execution_count": 53,
     "metadata": {},
     "output_type": "execute_result"
    }
   ],
   "source": [
    "joblib.dump(label_encoders, 'label_encoders.pkl')"
   ]
  },
  {
   "cell_type": "code",
   "execution_count": 54,
   "id": "f2f92cc7",
   "metadata": {},
   "outputs": [
    {
     "data": {
      "text/html": [
       "<div>\n",
       "<style scoped>\n",
       "    .dataframe tbody tr th:only-of-type {\n",
       "        vertical-align: middle;\n",
       "    }\n",
       "\n",
       "    .dataframe tbody tr th {\n",
       "        vertical-align: top;\n",
       "    }\n",
       "\n",
       "    .dataframe thead th {\n",
       "        text-align: right;\n",
       "    }\n",
       "</style>\n",
       "<table border=\"1\" class=\"dataframe\">\n",
       "  <thead>\n",
       "    <tr style=\"text-align: right;\">\n",
       "      <th></th>\n",
       "      <th>Make</th>\n",
       "      <th>Model</th>\n",
       "      <th>Year</th>\n",
       "      <th>Engine Fuel Type</th>\n",
       "      <th>Engine HP</th>\n",
       "      <th>Engine Cylinders</th>\n",
       "      <th>Transmission Type</th>\n",
       "      <th>Driven_Wheels</th>\n",
       "      <th>Number of Doors</th>\n",
       "      <th>Market Category</th>\n",
       "      <th>Vehicle Size</th>\n",
       "      <th>Vehicle Style</th>\n",
       "      <th>highway MPG</th>\n",
       "      <th>city mpg</th>\n",
       "      <th>Popularity</th>\n",
       "      <th>MSRP</th>\n",
       "    </tr>\n",
       "  </thead>\n",
       "  <tbody>\n",
       "    <tr>\n",
       "      <th>17</th>\n",
       "      <td>2</td>\n",
       "      <td>0</td>\n",
       "      <td>1992.0</td>\n",
       "      <td>6</td>\n",
       "      <td>172.0</td>\n",
       "      <td>6.0</td>\n",
       "      <td>2</td>\n",
       "      <td>2</td>\n",
       "      <td>4.0</td>\n",
       "      <td>46</td>\n",
       "      <td>2</td>\n",
       "      <td>14</td>\n",
       "      <td>24.0</td>\n",
       "      <td>17.0</td>\n",
       "      <td>3105.0</td>\n",
       "      <td>2000.0</td>\n",
       "    </tr>\n",
       "    <tr>\n",
       "      <th>18</th>\n",
       "      <td>2</td>\n",
       "      <td>0</td>\n",
       "      <td>1992.0</td>\n",
       "      <td>6</td>\n",
       "      <td>172.0</td>\n",
       "      <td>6.0</td>\n",
       "      <td>2</td>\n",
       "      <td>2</td>\n",
       "      <td>4.0</td>\n",
       "      <td>46</td>\n",
       "      <td>2</td>\n",
       "      <td>14</td>\n",
       "      <td>24.0</td>\n",
       "      <td>17.0</td>\n",
       "      <td>3105.0</td>\n",
       "      <td>2000.0</td>\n",
       "    </tr>\n",
       "    <tr>\n",
       "      <th>19</th>\n",
       "      <td>2</td>\n",
       "      <td>0</td>\n",
       "      <td>1992.0</td>\n",
       "      <td>6</td>\n",
       "      <td>172.0</td>\n",
       "      <td>6.0</td>\n",
       "      <td>1</td>\n",
       "      <td>0</td>\n",
       "      <td>4.0</td>\n",
       "      <td>46</td>\n",
       "      <td>2</td>\n",
       "      <td>15</td>\n",
       "      <td>20.0</td>\n",
       "      <td>16.0</td>\n",
       "      <td>3105.0</td>\n",
       "      <td>2000.0</td>\n",
       "    </tr>\n",
       "    <tr>\n",
       "      <th>20</th>\n",
       "      <td>2</td>\n",
       "      <td>0</td>\n",
       "      <td>1992.0</td>\n",
       "      <td>6</td>\n",
       "      <td>172.0</td>\n",
       "      <td>6.0</td>\n",
       "      <td>2</td>\n",
       "      <td>2</td>\n",
       "      <td>4.0</td>\n",
       "      <td>46</td>\n",
       "      <td>2</td>\n",
       "      <td>14</td>\n",
       "      <td>24.0</td>\n",
       "      <td>17.0</td>\n",
       "      <td>3105.0</td>\n",
       "      <td>2000.0</td>\n",
       "    </tr>\n",
       "    <tr>\n",
       "      <th>21</th>\n",
       "      <td>2</td>\n",
       "      <td>0</td>\n",
       "      <td>1992.0</td>\n",
       "      <td>6</td>\n",
       "      <td>172.0</td>\n",
       "      <td>6.0</td>\n",
       "      <td>2</td>\n",
       "      <td>0</td>\n",
       "      <td>4.0</td>\n",
       "      <td>46</td>\n",
       "      <td>2</td>\n",
       "      <td>14</td>\n",
       "      <td>21.0</td>\n",
       "      <td>16.0</td>\n",
       "      <td>3105.0</td>\n",
       "      <td>2000.0</td>\n",
       "    </tr>\n",
       "  </tbody>\n",
       "</table>\n",
       "</div>"
      ],
      "text/plain": [
       "    Make  Model    Year  Engine Fuel Type  Engine HP  Engine Cylinders  \\\n",
       "17     2      0  1992.0                 6      172.0               6.0   \n",
       "18     2      0  1992.0                 6      172.0               6.0   \n",
       "19     2      0  1992.0                 6      172.0               6.0   \n",
       "20     2      0  1992.0                 6      172.0               6.0   \n",
       "21     2      0  1992.0                 6      172.0               6.0   \n",
       "\n",
       "    Transmission Type  Driven_Wheels  Number of Doors  Market Category  \\\n",
       "17                  2              2              4.0               46   \n",
       "18                  2              2              4.0               46   \n",
       "19                  1              0              4.0               46   \n",
       "20                  2              2              4.0               46   \n",
       "21                  2              0              4.0               46   \n",
       "\n",
       "    Vehicle Size  Vehicle Style  highway MPG  city mpg  Popularity    MSRP  \n",
       "17             2             14         24.0      17.0      3105.0  2000.0  \n",
       "18             2             14         24.0      17.0      3105.0  2000.0  \n",
       "19             2             15         20.0      16.0      3105.0  2000.0  \n",
       "20             2             14         24.0      17.0      3105.0  2000.0  \n",
       "21             2             14         21.0      16.0      3105.0  2000.0  "
      ]
     },
     "execution_count": 54,
     "metadata": {},
     "output_type": "execute_result"
    }
   ],
   "source": [
    "df.head()"
   ]
  },
  {
   "cell_type": "markdown",
   "id": "4ab3d9c4",
   "metadata": {},
   "source": [
    "### DATA MODELING"
   ]
  },
  {
   "cell_type": "markdown",
   "id": "540afaf0",
   "metadata": {},
   "source": [
    "Import libraries"
   ]
  },
  {
   "cell_type": "code",
   "execution_count": 55,
   "id": "365e54a2",
   "metadata": {},
   "outputs": [],
   "source": [
    "from sklearn.tree import DecisionTreeRegressor\n",
    "from sklearn.model_selection import train_test_split"
   ]
  },
  {
   "cell_type": "markdown",
   "id": "6d2b4872",
   "metadata": {},
   "source": [
    "Define features and target variables"
   ]
  },
  {
   "cell_type": "code",
   "execution_count": 56,
   "id": "dd03a509",
   "metadata": {},
   "outputs": [],
   "source": [
    "features = ['Make', 'Model', 'Year', 'Engine Fuel Type', 'Engine HP', 'Engine Cylinders', 'Transmission Type',\n",
    "            'Driven_Wheels', 'Number of Doors', 'Market Category', 'Vehicle Size', 'Vehicle Style', 'highway MPG',\n",
    "            'city mpg', 'Popularity']\n",
    "target = 'MSRP'"
   ]
  },
  {
   "cell_type": "markdown",
   "id": "2c2a4e1e",
   "metadata": {},
   "source": [
    "Split dataset into training and testing data"
   ]
  },
  {
   "cell_type": "code",
   "execution_count": 57,
   "id": "a1069c47",
   "metadata": {},
   "outputs": [],
   "source": [
    "X_train, X_test, y_train, y_test = train_test_split(df[features], df[target], test_size=0.2, random_state=42)"
   ]
  },
  {
   "cell_type": "markdown",
   "id": "d87421a1",
   "metadata": {},
   "source": [
    "Initialize the Decision Tree Regressor model"
   ]
  },
  {
   "cell_type": "code",
   "execution_count": 58,
   "id": "af5baced",
   "metadata": {},
   "outputs": [],
   "source": [
    "model = DecisionTreeRegressor()"
   ]
  },
  {
   "cell_type": "markdown",
   "id": "90db7ddc",
   "metadata": {},
   "source": [
    "Train the model"
   ]
  },
  {
   "cell_type": "code",
   "execution_count": 59,
   "id": "5dc54200",
   "metadata": {},
   "outputs": [
    {
     "data": {
      "text/plain": [
       "DecisionTreeRegressor()"
      ]
     },
     "execution_count": 59,
     "metadata": {},
     "output_type": "execute_result"
    }
   ],
   "source": [
    "model.fit(X_train, y_train)"
   ]
  },
  {
   "cell_type": "markdown",
   "id": "cfcdd6bb",
   "metadata": {},
   "source": [
    "Make predictions on the test data"
   ]
  },
  {
   "cell_type": "code",
   "execution_count": 60,
   "id": "47c6d411",
   "metadata": {},
   "outputs": [
    {
     "name": "stdout",
     "output_type": "stream",
     "text": [
      "Data:\n",
      "        Make  Model    Year  Engine Fuel Type  Engine HP  Engine Cylinders  \\\n",
      "5687     17    217  2017.0                 5      301.0               8.0   \n",
      "11871     9    497  2016.0                 4      420.0               8.0   \n",
      "10359     9    452  2017.0                 6      182.0               4.0   \n",
      "9370      9    421  2016.0                 3      285.0               6.0   \n",
      "9726     13    429  2015.0                 6      245.0               4.0   \n",
      "2184      5    106  2016.0                 4      275.0               4.0   \n",
      "3507      7    137  1991.0                 6      152.0               4.0   \n",
      "11084     5    471  2007.0                 6      240.0               6.0   \n",
      "7519     24    335  2015.0                 6      260.0               6.0   \n",
      "817      29     34  2012.0                 4      220.0               4.0   \n",
      "\n",
      "       Transmission Type  Driven_Wheels  Number of Doors  Market Category  \\\n",
      "5687                   1              1              4.0               46   \n",
      "11871                  1              1              4.0               52   \n",
      "10359                  1              0              4.0                0   \n",
      "9370                   1              1              2.0               28   \n",
      "9726                   1              2              4.0               52   \n",
      "2184                   2              3              2.0               52   \n",
      "3507                   2              2              2.0               43   \n",
      "11084                  1              2              4.0               28   \n",
      "7519                   1              1              4.0                0   \n",
      "817                    2              0              4.0               46   \n",
      "\n",
      "       Vehicle Size  Vehicle Style  highway MPG  city mpg  Popularity  \n",
      "5687              2              3         18.0      15.0       454.0  \n",
      "11871             1              3         21.0      15.0       549.0  \n",
      "10359             0              3         28.0      20.0       549.0  \n",
      "9370              1             13         22.0      17.0       549.0  \n",
      "9726              2             14         31.0      21.0      1439.0  \n",
      "2184              2              6         30.0      21.0      1385.0  \n",
      "3507              0              0         24.0      18.0      1851.0  \n",
      "11084             2             11         23.0      16.0      1385.0  \n",
      "7519              1              3         26.0      19.0      2009.0  \n",
      "817               0             15         30.0      20.0       376.0   \n",
      "Prediction:\n",
      "\n",
      " [62980.         65325.         30756.66666667 38370.\n",
      " 33525.         32700.          2000.         27911.66666667\n",
      " 36390.         36975.        ]\n"
     ]
    }
   ],
   "source": [
    "y_pred = model.predict(X_test)\n",
    "print('Data:\\n', X_test[:10], '\\nPrediction:\\n\\n', y_pred[:10])"
   ]
  },
  {
   "cell_type": "markdown",
   "id": "8db45c06",
   "metadata": {},
   "source": [
    "### MODEL EVALUATION"
   ]
  },
  {
   "cell_type": "markdown",
   "id": "e28bc1a8",
   "metadata": {},
   "source": [
    "Import libraries"
   ]
  },
  {
   "cell_type": "code",
   "execution_count": 61,
   "id": "9f33e7bb",
   "metadata": {},
   "outputs": [],
   "source": [
    "from sklearn.metrics import mean_absolute_percentage_error\n",
    "from sklearn.metrics import r2_score"
   ]
  },
  {
   "cell_type": "markdown",
   "id": "25957a1d",
   "metadata": {},
   "source": [
    "Evaluate the model using R-squared Score"
   ]
  },
  {
   "cell_type": "code",
   "execution_count": 62,
   "id": "0a837aee",
   "metadata": {},
   "outputs": [
    {
     "name": "stdout",
     "output_type": "stream",
     "text": [
      "R-squared Score: 0.9368005491749147\n"
     ]
    }
   ],
   "source": [
    "r2 = r2_score(y_test, y_pred)\n",
    "print('R-squared Score:', r2)"
   ]
  },
  {
   "cell_type": "markdown",
   "id": "5387680f",
   "metadata": {},
   "source": [
    "The R-squared Score value of 0.9313598053940578 indicates that approximately 93.14% of the variation in the target variable can be explained by the model. A higher R-squared value indicates that the model is better at explaining the variability in the data. In this context, the R-squared value suggests that the model has a very good ability to explain the variability in the data."
   ]
  },
  {
   "cell_type": "markdown",
   "id": "13b0c7c4",
   "metadata": {},
   "source": [
    "Evaluate the model using Mean Squared Error (MSE)"
   ]
  },
  {
   "cell_type": "code",
   "execution_count": 63,
   "id": "346342b9",
   "metadata": {},
   "outputs": [
    {
     "name": "stdout",
     "output_type": "stream",
     "text": [
      "Mean Absolute Percentage Error (MAPE): 0.08162998883216144\n"
     ]
    }
   ],
   "source": [
    "mape = mean_absolute_percentage_error(y_test, y_pred)\n",
    "print('Mean Absolute Percentage Error (MAPE):', mape)"
   ]
  },
  {
   "cell_type": "markdown",
   "id": "1e130028",
   "metadata": {},
   "source": [
    "The Mean Absolute Percentage Error (MAPE) value of 0.09109862380663455 indicates that, on average, the model's predictions have a percentage error of approximately 9.11%. A lower MAPE value indicates better accuracy, as it means the model's predictions are closer to the actual values. In this context, the MAPE value suggests reasonably good performance."
   ]
  },
  {
   "cell_type": "markdown",
   "id": "fafbb0a8",
   "metadata": {},
   "source": [
    "### DEPLOYMENT"
   ]
  },
  {
   "cell_type": "markdown",
   "id": "bd5df662",
   "metadata": {},
   "source": [
    "Import joblib library and save model into a pkl file"
   ]
  },
  {
   "cell_type": "code",
   "execution_count": 64,
   "id": "1af7ed97",
   "metadata": {},
   "outputs": [
    {
     "data": {
      "text/plain": [
       "['decisiontree_model_CarMRSP.pkl']"
      ]
     },
     "execution_count": 64,
     "metadata": {},
     "output_type": "execute_result"
    }
   ],
   "source": [
    "import joblib\n",
    "\n",
    "joblib.dump(model, 'decisiontree_model_CarMRSP.pkl')"
   ]
  },
  {
   "cell_type": "markdown",
   "id": "f45d5ff2",
   "metadata": {},
   "source": [
    "Load model from the file"
   ]
  },
  {
   "cell_type": "code",
   "execution_count": 65,
   "id": "5e3b320b",
   "metadata": {},
   "outputs": [],
   "source": [
    "# loaded_model = joblib.load('decisiontree_model_CarMRSP.pkl')"
   ]
  },
  {
   "cell_type": "markdown",
   "id": "535201aa",
   "metadata": {},
   "source": [
    "New data to be predicted"
   ]
  },
  {
   "cell_type": "code",
   "execution_count": 26,
   "id": "12b78c11",
   "metadata": {},
   "outputs": [],
   "source": [
    "# new_data = pd.DataFrame({\n",
    "#     'Make': [13, 7, 3],\n",
    "#     'Model': [217, 137, 417],\n",
    "#     'Year': [2018.0, 2019.0, 2017.0],\n",
    "#     'Engine Fuel Type': [3, 4, 5],\n",
    "#     'Engine HP': [182.0, 152.0, 420.0],\n",
    "#     'Engine Cylinders': [4.0, 4.0, 6.0],\n",
    "#     'Transmission Type': [1, 2, 2],\n",
    "#     'Driven_Wheels': [1, 2, 3],\n",
    "#     'Number of Doors': [4.0, 4.0, 4.0],\n",
    "#     'Market Category': [28, 43, 46],\n",
    "#     'Vehicle Size': [0, 1, 2],\n",
    "#     'Vehicle Style': [13, 14, 15],\n",
    "#     'highway MPG': [21, 22, 24],\n",
    "#     'city mpg': [16, 17, 18],\n",
    "#     'Popularity': [1390, 1391, 1392]\n",
    "# })"
   ]
  },
  {
   "cell_type": "markdown",
   "id": "52cd5322",
   "metadata": {},
   "source": [
    "Predict the MSRP of the new data"
   ]
  },
  {
   "cell_type": "code",
   "execution_count": 27,
   "id": "ab3a7b5b",
   "metadata": {},
   "outputs": [],
   "source": [
    "# predictions = loaded_model.predict(new_data)"
   ]
  },
  {
   "cell_type": "markdown",
   "id": "502b6211",
   "metadata": {},
   "source": [
    "Display the predictions"
   ]
  },
  {
   "cell_type": "code",
   "execution_count": 28,
   "id": "7ba5706e",
   "metadata": {},
   "outputs": [
    {
     "name": "stdout",
     "output_type": "stream",
     "text": [
      "Prediction: [21770.         29383.33333333 72500.        ]\n"
     ]
    }
   ],
   "source": [
    "# print('Prediction:', predictions)"
   ]
  },
  {
   "cell_type": "code",
   "execution_count": 34,
   "id": "80524c03",
   "metadata": {},
   "outputs": [
    {
     "data": {
      "text/plain": [
       "35"
      ]
     },
     "execution_count": 34,
     "metadata": {},
     "output_type": "execute_result"
    }
   ],
   "source": [
    "# df['Make'].max()"
   ]
  }
 ],
 "metadata": {
  "kernelspec": {
   "display_name": "Python 3 (ipykernel)",
   "language": "python",
   "name": "python3"
  },
  "language_info": {
   "codemirror_mode": {
    "name": "ipython",
    "version": 3
   },
   "file_extension": ".py",
   "mimetype": "text/x-python",
   "name": "python",
   "nbconvert_exporter": "python",
   "pygments_lexer": "ipython3",
   "version": "3.9.13"
  }
 },
 "nbformat": 4,
 "nbformat_minor": 5
}
